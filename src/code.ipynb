{
 "cells": [
  {
   "cell_type": "code",
   "execution_count": 8,
   "metadata": {},
   "outputs": [
    {
     "ename": "ModuleNotFoundError",
     "evalue": "No module named 'matplotlib'",
     "output_type": "error",
     "traceback": [
      "\u001b[1;31m---------------------------------------------------------------------------\u001b[0m",
      "\u001b[1;31mModuleNotFoundError\u001b[0m                       Traceback (most recent call last)",
      "Cell \u001b[1;32mIn [8], line 2\u001b[0m\n\u001b[0;32m      1\u001b[0m \u001b[38;5;28;01mfrom\u001b[39;00m \u001b[38;5;21;01mre\u001b[39;00m \u001b[38;5;28;01mimport\u001b[39;00m \u001b[38;5;28mcompile\u001b[39m \u001b[38;5;28;01mas\u001b[39;00m _recompile_\n\u001b[1;32m----> 2\u001b[0m \u001b[38;5;28;01mimport\u001b[39;00m \u001b[38;5;21;01mmatplotlib\u001b[39;00m\u001b[38;5;21;01m.\u001b[39;00m\u001b[38;5;21;01mpyplot\u001b[39;00m \u001b[38;5;28;01mas\u001b[39;00m \u001b[38;5;21;01mplt\u001b[39;00m\n\u001b[0;32m      4\u001b[0m get_ipython()\u001b[38;5;241m.\u001b[39mrun_line_magic(\u001b[38;5;124m'\u001b[39m\u001b[38;5;124mmatplotlib\u001b[39m\u001b[38;5;124m'\u001b[39m, \u001b[38;5;124m'\u001b[39m\u001b[38;5;124minline\u001b[39m\u001b[38;5;124m'\u001b[39m)\n\u001b[0;32m      6\u001b[0m rule \u001b[38;5;241m=\u001b[39m _recompile_(\u001b[38;5;124mr\u001b[39m\u001b[38;5;124m'\u001b[39m\u001b[38;5;124m(N+)\u001b[39m\u001b[38;5;124m'\u001b[39m)\n",
      "\u001b[1;31mModuleNotFoundError\u001b[0m: No module named 'matplotlib'"
     ]
    }
   ],
   "source": [
    "from re import compile as _recompile_\n",
    "import matplotlib.pyplot as plt\n",
    "\n",
    "%matplotlib inline\n",
    "\n",
    "rule = _recompile_(r'(N+)')"
   ]
  },
  {
   "cell_type": "code",
   "execution_count": null,
   "metadata": {},
   "outputs": [],
   "source": [
    "scaffolds = {'Длина макс скаффолда': [], 'Кол-во скаффолдов': [], 'n50': [], 'Длина гэпов': [], 'Общая длина': [], 'Кол-во гэпов': []}\n",
    "contigs = {'Длина макс контига': [], 'Кол-во контигов': [], 'n50': [], 'Общая длина': []} \n",
    "gapclosed = {'Общая длина': [], 'Кол-во гэпов': []}\n",
    "sequences = ['main', 'seq1', 'seq2']"
   ]
  },
  {
   "cell_type": "code",
   "execution_count": null,
   "metadata": {},
   "outputs": [],
   "source": [
    "def counter(file, analysname):\n",
    "  datadict = {'lenght': 0, 'count': 0}\n",
    "  allctgs = []\n",
    "\n",
    "  f = open(file, 'r')\n",
    "\n",
    "  for i in f.readlines():\n",
    "      if i[0] == '>':\n",
    "        datadict['count'] += 1\n",
    "        indexlen = i.find('len') + 3\n",
    "        indexcov = i.find('cov') - 1\n",
    "        ind = str(i[indexlen:indexcov])\n",
    "        datadict['lenght'] += int(ind)\n",
    "        allctgs.append(int(ind))\n",
    "\n",
    "  f.close()\n",
    "  allctgs.sort(reverse = True)\n",
    "  score = 0\n",
    "  i = 0\n",
    "\n",
    "  for i in allctgs:\n",
    "    score += i\n",
    "    if score >= datadict['lenght'] / 2:\n",
    "      print(f'Анализ {analysname}\\n\\\n",
    "      Общее количество: {datadict[\"count\"]},\\n\\\n",
    "      Общая длина: {datadict[\"lenght\"]},\\n\\\n",
    "      Длина самого длинного: {allctgs[0]},\\n\\\n",
    "      N50: {i}\\n')\n",
    "      break\n",
    "\n",
    "  return allctgs[0], datadict[\"count\"], datadict[\"lenght\"], i"
   ]
  },
  {
   "cell_type": "code",
   "execution_count": null,
   "metadata": {},
   "outputs": [],
   "source": [
    "a, b, c, d = counter('Poil_contig.fa', 'контигов')\n",
    "contigs['Длина макс контига']. append(a) \n",
    "contigs['Кол-во контигов'].append(b)\n",
    "contigs['Общая длина'].append(c)\n",
    "contigs['n50'].append(d)"
   ]
  },
  {
   "cell_type": "code",
   "execution_count": null,
   "metadata": {},
   "outputs": [],
   "source": [
    "max, b, c, d = counter('Poil_scaffold.fa', 'скаффолдов')\n",
    "scaffolds['Длина макс скаффолда']. append(max) \n",
    "scaffolds['Кол-во скаффолдов'].append(b)\n",
    "scaffolds['Общая длина'].append(c)\n",
    "scaffolds['n50'].append(d)"
   ]
  },
  {
   "cell_type": "code",
   "execution_count": null,
   "metadata": {},
   "outputs": [],
   "source": [
    "scaff = findmax('Poil_scaffold.fa', 'longest.fa', max)"
   ]
  },
  {
   "cell_type": "code",
   "execution_count": null,
   "metadata": {},
   "outputs": [],
   "source": [
    "scaffolds['Длина гэпов'].append(scaff.count('N'))\n",
    "print('Общая длина гэпов: ', scaff.count('N'))\n",
    "\n",
    "scaff2 = rule.sub('N', scaff)\n",
    "print('Число гэпов: ', scaff2.count('N'))\n",
    "scaffolds['Кол-во гэпов'].append(scaff2.count('N'))"
   ]
  }
 ],
 "metadata": {
  "kernelspec": {
   "display_name": "Python 3.8.5 32-bit (system)",
   "language": "python",
   "name": "python3"
  },
  "language_info": {
   "codemirror_mode": {
    "name": "ipython",
    "version": 3
   },
   "file_extension": ".py",
   "mimetype": "text/x-python",
   "name": "python",
   "nbconvert_exporter": "python",
   "pygments_lexer": "ipython3",
   "version": "3.8.5"
  },
  "orig_nbformat": 4,
  "vscode": {
   "interpreter": {
    "hash": "ffd69b3c0939c79a1da309471226c2f1ffa922c9c7c0cdd8a3ad821560322601"
   }
  }
 },
 "nbformat": 4,
 "nbformat_minor": 2
}
